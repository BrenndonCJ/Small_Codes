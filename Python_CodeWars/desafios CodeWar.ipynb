{
    "cells": [
        {
            "cell_type": "markdown",
            "source": [
                "# Torre de \"*\""
            ],
            "metadata": {}
        },
        {
            "cell_type": "code",
            "execution_count": 3,
            "source": [
                "def tower(alt : int) -> list :\r\n",
                "    return [' '*int((alt*2-i)/2)+'*'* i + ' '*int((alt*2-i)/2) for i in range(1, alt*2, 2)]\r\n",
                "\r\n",
                "\r\n",
                "t = tower(5)\r\n",
                "\r\n",
                "for _ in t:\r\n",
                "    print(_)"
            ],
            "outputs": [
                {
                    "output_type": "stream",
                    "name": "stdout",
                    "text": [
                        "    *    \n",
                        "   ***   \n",
                        "  *****  \n",
                        " ******* \n",
                        "*********\n"
                    ]
                }
            ],
            "metadata": {}
        },
        {
            "cell_type": "markdown",
            "source": [
                "# Stop gninnipS My sdroW!\r\n",
                "    Escreva uma função que receba uma sequência de uma ou mais palavras e retorne a mesma sequência, mas com todas as palavras de cinco ou mais letras invertidas (como o nome deste kata).\r\n",
                "\r\n",
                "    As strings passadas consistirão apenas em letras e espaços.\r\n",
                "    Os espaços serão incluídos apenas quando mais de uma palavra estiver presente."
            ],
            "metadata": {}
        },
        {
            "cell_type": "code",
            "execution_count": 8,
            "source": [
                "def spin_words(sentence : str) -> str:\r\n",
                "    return ' '.join(p[::-1] if len(p) >= 5 else p for p in sentence.split())\r\n",
                "\r\n",
                "\r\n",
                "spin_words(\"This is a test\"), spin_words(\"CINCO INVERTE\")"
            ],
            "outputs": [
                {
                    "output_type": "execute_result",
                    "data": {
                        "text/plain": [
                            "('This is a test', 'OCNIC ETREVNI')"
                        ]
                    },
                    "metadata": {},
                    "execution_count": 8
                }
            ],
            "metadata": {}
        },
        {
            "cell_type": "markdown",
            "source": [
                "# Contagem de bits\r\n",
                "\r\n",
                "    Escreva uma função que recebe um inteiro como entrada e retorna o número de bits que são iguais a '1'(um) na representação binária desse número. Você pode garantir que a entrada não é negativa.\r\n",
                "\r\n",
                "    Exemplo : a representação binária de 1234 é 10011010010, portanto, a função deve retornar 5 neste caso"
            ],
            "metadata": {}
        },
        {
            "cell_type": "code",
            "execution_count": 11,
            "source": [
                "def count_bits(n : int) -> int:\r\n",
                "    return int(bin(n)[2:].count(\"1\"))\r\n",
                "\r\n",
                "\r\n",
                "count_bits(1234)"
            ],
            "outputs": [
                {
                    "output_type": "execute_result",
                    "data": {
                        "text/plain": [
                            "5"
                        ]
                    },
                    "metadata": {},
                    "execution_count": 11
                }
            ],
            "metadata": {}
        },
        {
            "cell_type": "markdown",
            "source": [
                "# Seu pedido por favor\r\n",
                "\r\n",
                "    Sua tarefa é classificar uma determinada string. Cada palavra na string conterá um único número. Este número é a posição que a palavra deve ter no resultado.\r\n",
                "\r\n",
                "    Nota: os números podem ser de 1 a 9. Portanto, 1 será a primeira palavra (não 0).\r\n",
                "\r\n",
                "    Se a string de entrada estiver vazia, retorne uma string vazia. As palavras na string de entrada conterão apenas números consecutivos válidos."
            ],
            "metadata": {}
        },
        {
            "cell_type": "code",
            "execution_count": 13,
            "source": [
                "def order(sentence : str) -> str:\r\n",
                "    s = sentence.split()\r\n",
                "    n = sorted([int(n) for n in sentence if n.isnumeric()])\r\n",
                "    final = []\r\n",
                "\r\n",
                "    for i in n:\r\n",
                "        for p in s:\r\n",
                "            if str(i) in p:\r\n",
                "                final.append(p)\r\n",
                "\r\n",
                "    return ' '.join(final)\r\n",
                "\r\n",
                "\r\n",
                "s = \"2segunda primeira1 qua4rta ter3ceira\"\r\n",
                "\r\n",
                "print(order(s))"
            ],
            "outputs": [
                {
                    "output_type": "stream",
                    "name": "stdout",
                    "text": [
                        "primeira1 2segunda ter3ceira qua4rta\n"
                    ]
                }
            ],
            "metadata": {}
        },
        {
            "cell_type": "code",
            "execution_count": 86,
            "source": [
                "def order(sentence):\r\n",
                "    return ' '.join(sorted(sentence.split(), key=lambda w: sorted(w)))\r\n",
                "\r\n",
                "\r\n",
                "s = \"is2 Thi1s T4est 3a\"\r\n",
                "\r\n",
                "print(order(s))"
            ],
            "outputs": [
                {
                    "output_type": "stream",
                    "name": "stdout",
                    "text": [
                        "None\n"
                    ]
                }
            ],
            "metadata": {}
        },
        {
            "cell_type": "code",
            "execution_count": null,
            "source": [],
            "outputs": [],
            "metadata": {}
        }
    ],
    "metadata": {
        "orig_nbformat": 4,
        "language_info": {
            "name": "python",
            "version": "3.9.7",
            "mimetype": "text/x-python",
            "codemirror_mode": {
                "name": "ipython",
                "version": 3
            },
            "pygments_lexer": "ipython3",
            "nbconvert_exporter": "python",
            "file_extension": ".py"
        },
        "kernelspec": {
            "name": "python3",
            "display_name": "Python 3.9.7 64-bit"
        },
        "interpreter": {
            "hash": "8e7b2e2bc9fb202c5a45748126115e9e2aa38bc3562d1f4c6517453e754dc1c5"
        }
    },
    "nbformat": 4,
    "nbformat_minor": 2
}